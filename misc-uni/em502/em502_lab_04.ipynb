{
 "cells": [
  {
   "attachments": {},
   "cell_type": "markdown",
   "metadata": {},
   "source": [
    "# EM502 Lab 04 - E/17/371\n",
    "\n",
    "Consider the problem minimize $f(x_1,x_2) = (1 − x_1)^2 + \\frac{(1 − x_2)^2 + (−x_1^2 + 2x_2)^2}{2}$,  \n",
    "having a gradient $∇f(x) = ([[−2x_1(−x_1^2 + 2x_2) + 2x_1−2], [−2x_1^2 + 6x_2 − 2]])$.\n",
    "\n",
    "\n",
    "The optiamal point for this problem is given by $x∗ = (1.21,0.824)$\n",
    "The function and the gradient is defined below."
   ]
  },
  {
   "cell_type": "code",
   "execution_count": null,
   "metadata": {},
   "outputs": [],
   "source": [
    "import numpy as np\n",
    "\n",
    "f = lambda x: ((1 - x[0,:] )**2) + ((1 - x[1,:] )**2) + 0.5*((2*x[1,:] - x[0,:]**2)**2)\n",
    "grad_f = lambda x: np.array([[2*x[0,:]*(x[0,:]**2 - 2*x[1,:]) + 2*x[0,:] - 2], \n",
    "                             [-2*x[0,:]**2 + 6*x[1,:] - 2]])"
   ]
  },
  {
   "attachments": {},
   "cell_type": "markdown",
   "metadata": {},
   "source": [
    "The function can be visualised with a contour map"
   ]
  },
  {
   "cell_type": "code",
   "execution_count": null,
   "metadata": {},
   "outputs": [],
   "source": [
    "import matplotlib.pyplot as plt\n",
    "from matplotlib import cm\n",
    "\n",
    "X1,X2 = np.meshgrid(np.linspace(-3,3,40),np.linspace(-2,5,40))\n",
    "X = np.vstack((X1.reshape([1,-1]),X2.reshape([1,-1]))) # flatten grids side-by-side\n",
    "Z = f(X)\n",
    "Z_grad = grad_f(X)"
   ]
  },
  {
   "attachments": {},
   "cell_type": "markdown",
   "metadata": {},
   "source": [
    "We will choose a starting point $x_0 = (−1.0, 2.0)$\n",
    "This gives a steepest descent direction $d_0 = −∇(f(x_0)) = [−2, −8]^T$\n",
    "\n",
    "Plot the function as contours, the initial point $x_0$, the true minimum $x∗$, the gradient vector $∇f(x_k)$ and the steepest descent direction $−∇f(x_k)$ below."
   ]
  },
  {
   "cell_type": "code",
   "execution_count": null,
   "metadata": {},
   "outputs": [],
   "source": [
    "x0 = np.array([-1,2])\n",
    "grad_f0 = grad_f(x0[:,None]).squeeze()\n",
    "d0 = -grad_f0\n",
    "x_opt = [1.2134116627622296, 0.8241226211091329]\n",
    "\n",
    "origin = np.array([x0]*2).T # origin point\n",
    "vectors = np.array([grad_f0, -grad_f0])\n",
    "\n",
    "fig, ax = plt.subplots(figsize=(7,6))\n",
    "# plot\n",
    "ax.contourf(X1, X2, Z.reshape(X1.shape),cmap=cm.coolwarm,levels=25,zorder=-1)\n",
    "Q = ax.quiver(*origin, vectors[0:1,0], vectors[0:1,1], color=['r',], scale=50, zorder=1)\n",
    "ax.quiverkey(Q, 0.1, 0.2, 2, r\"$\\nabla f(\\mathbf{x}_0)$\", labelpos='S', coordinates='axes')\n",
    "Q = ax.quiver(*origin, vectors[1:2,0], vectors[1:2,1], color=['b'], scale=50, zorder=1)\n",
    "ax.quiverkey(Q, 0.1, 0.1, 2, r\"$\\mathbf{d}_k = -\\nabla f(\\mathbf{x}_0)$\", labelpos='S', coordinates='axes')\n",
    "ax.plot([x0[0],x0[0] + 10*d0[0]], [x0[1],x0[1] + 10*d0[1]], color=\"k\", label=\"line search\", linewidth=0.5, linestyle=\"--\",zorder=2)\n",
    "ax.scatter([x_opt[0],], [x_opt[1],], marker=\"o\", color=\"g\", edgecolors=\"k\", linestyle=\"None\",label=\"$\\mathbf{x}^*$\",zorder=3)\n",
    "ax.scatter([x0[0],], [x0[1],], marker=\"o\", color=\"m\", edgecolors=\"k\", linestyle=\"None\",label=\"$\\mathbf{x}_0$\",zorder=3)\n",
    "ax.set_xlabel(\"$x_1$\")\n",
    "ax.set_ylabel(\"$x_2$\")\n",
    "ax.axis('equal')\n",
    "ax.set_xlim((-3,3))\n",
    "ax.set_ylim((-1,3))\n",
    "ax.legend()\n",
    "fig.canvas.draw()"
   ]
  },
  {
   "attachments": {},
   "cell_type": "markdown",
   "metadata": {},
   "source": [
    "We will see how the function changes its value along the search direction dk  \n",
    "$ϕ(α)=f(x_k+1)=f(x_k+αd_k)$\n",
    "\n",
    "We will look at the derivative (Please refer class notes)  \n",
    "$ϕ′(α)=f′(x_k+αd_k)=∇f(x_k+αd_k)^Td_k$\n",
    "\n",
    "We use below the symbolic python expressions to find $ϕ(α),ϕ′(α)$ by substituting $x_0+αd_0$ into $f$ and $∇f$."
   ]
  },
  {
   "cell_type": "code",
   "execution_count": null,
   "metadata": {},
   "outputs": [],
   "source": [
    "def get_real(roots, last=False):\n",
    "    reals = [root for root in roots if root.is_real]\n",
    "    if last:\n",
    "        return reals[-1]\n",
    "    else:\n",
    "        return reals[0]\n",
    "\n",
    "import sympy as sym\n",
    "import sympy.physics.vector as spv\n",
    "from sympy import pprint, latex, simplify\n",
    "from sympy.plotting import plot\n",
    "\n",
    "a = sym.Symbol(r\"\\alpha\", real=True)\n",
    "x1 = sym.Symbol(r\"x_1\")\n",
    "x2 = sym.Symbol(r\"x_2\")\n",
    "\n",
    "f_sym = ((1 - x1 )**2) + ((1 - x2 )**2) + ((2*x2 - x1**2)**2)/2\n",
    "display(f_sym)\n",
    "\n",
    "# try the gradient approach\n",
    "gradf_sym = sym.Matrix([sym.diff(f_sym,x1),sym.diff(f_sym,x2)])\n",
    "display(gradf_sym)\n",
    "\n",
    "# substitute direction\n",
    "f_sym = f_sym.subs({x1:x0[0]+d0[0]*a, x2: x0[1]+d0[1]*a})\n",
    "display(f_sym.simplify())\n",
    "\n",
    "gradf_sym = gradf_sym.subs({x1:x0[0]+d0[0]*a, x2: x0[1]+d0[1]*a})\n",
    "display(gradf_sym.applyfunc(simplify))\n",
    "\n",
    "df_sym=gradf_sym.dot(sym.Matrix([d0[0],d0[1]]))\n",
    "display(df_sym.simplify())\n",
    "\n",
    "# differentiate and set equal to 0 to find alpha_min\n",
    "roots = sym.solve(df_sym,  a)\n",
    "\n",
    "a_min = float(get_real(roots))\n",
    "display(a_min)"
   ]
  },
  {
   "attachments": {},
   "cell_type": "markdown",
   "metadata": {},
   "source": [
    "Recall that Armijo's line search rule specifies the following condition on α to ensure sufficient decrease condition.  \n",
    "$ϕ(α)≤ϕ(0)+ϵϕ′(0)α=ψ(α;ϵ)$\n",
    "\n",
    "We also impose a second condition on α to ensure that α is not too small.  \n",
    "$ϕ(2α)≥ϕ(0)+2ϵϕ′(0)α=ψ(α;2ϵ)$\n",
    "\n",
    "Much more sophisticated conditions are given by Wolf and Strong Wolf conditions discussed in class. α in the acceptable range can be visualised as below."
   ]
  },
  {
   "cell_type": "code",
   "execution_count": null,
   "metadata": {},
   "outputs": [],
   "source": [
    "alpha = np.linspace(0,1.0,100)\n",
    "phi = lambda alpha: f(x0[:,None] + alpha*d0[:, None])\n",
    "phi_prime = lambda alpha: grad_f(x0[:,None] + alpha*d0[:, None]).T @ d0[:, None]\n",
    "\n",
    "e = 0.1\n",
    "\n",
    "# find bounds for alpha\n",
    "a_plot = float(get_real(sym.solve(f_sym - f_sym.subs(a,0)), last=True))\n",
    "b_plot = float(get_real(sym.solve(f_sym - f_sym.subs(a,0) - e*df_sym.subs(a,0)*a,a), last=True))\n",
    "c_plot = float(get_real(sym.solve(f_sym.subs(a,2*a) - f_sym.subs(a,0) - 2*e*df_sym.subs(a,0)*a,a), last=True))\n",
    "\n",
    "fig, ax = plt.subplots()\n",
    "# plot\n",
    "ax.plot(alpha, phi(alpha), color=\"k\", linewidth=1.5, linestyle=\"-\",zorder=-1,label=r\"$\\phi(\\alpha)$\")\n",
    "ax.plot(alpha, [phi(0),]*len(alpha), color=\"r\", linewidth=0.5, linestyle=\"-\",label=r\"$\\psi_A(\\alpha)$\",zorder=-1)\n",
    "ax.plot(alpha, phi(0) + e*alpha*phi_prime(0).squeeze(), color=\"b\", linewidth=0.5, linestyle=\"-\",label=r\"$\\psi_B(\\alpha) = \\phi(0)+\\epsilon\\phi'(0)\\alpha$\",zorder=-1)\n",
    "ax.plot(alpha, phi(0) + 2*e*alpha*phi_prime(0).squeeze(), color=\"g\", linewidth=0.5, linestyle=\"-\",label=r\"$\\psi_B(\\alpha) = \\phi(0)+2\\epsilon\\phi'(0)\\alpha$\",zorder=-1)\n",
    "ax.plot(alpha, phi(2*alpha), color=\"g\", linewidth=0.5, linestyle=\"-\",zorder=-1,label=r\"$\\phi(2\\alpha)$\")\n",
    "\n",
    "ax.scatter([a_min,], [phi(a_min),], marker=\"o\", color=\"m\", edgecolors=\"k\", linestyle=\"None\",label=r\"$\\alpha^*$\",zorder=1)\n",
    "ax.scatter([a_plot,], [phi(a_plot),], marker=\"o\", color=\"r\", edgecolors=\"k\", linestyle=\"None\",label=r\"A, $\\phi(\\alpha) = \\phi(0)$\",zorder=1)\n",
    "ax.scatter([b_plot,], [phi(b_plot),], marker=\"o\", color=\"b\", edgecolors=\"k\", linestyle=\"None\",label=r\"B, $\\phi(\\alpha) = \\phi(0) + \\epsilon\\phi'(0)\\alpha$\",zorder=1)\n",
    "ax.scatter([c_plot,], [phi(c_plot),], marker=\"o\", color=\"g\", edgecolors=\"k\", linestyle=\"None\",label=r\"C, $\\phi(2\\alpha) = \\phi(0) + 2\\epsilon\\phi'(0)\\alpha$\",zorder=1)\n",
    "\n",
    "ypad = (phi(a_plot) - phi(a_min)) * 0.1\n",
    "\n",
    "ax.vlines([a_plot,b_plot,c_plot],phi(a_min)-ypad,phi(a_plot)+ypad,color=[\"r\",\"b\",\"g\"], linewidth=0.5, linestyle=\"--\")\n",
    "\n",
    "ax.set_xlabel(r\"$\\alpha$\")\n",
    "ax.set_ylabel(r\"$\\phi(\\alpha)$\")\n",
    "ax.set_xlim((0,0.9))\n",
    "ax.set_ylim((phi(a_min)-ypad,phi(a_plot)+ypad))\n",
    "ax.legend(ncol=1,loc='upper left',bbox_to_anchor=(1.01, 1.00))\n",
    "fig.canvas.draw()"
   ]
  },
  {
   "attachments": {},
   "cell_type": "markdown",
   "metadata": {},
   "source": [
    "## Activity\n",
    "\n",
    "Consider the function given by\n",
    "$minimizef(x_1,x_2)=(x_1^2+x_2−11)^2+(x_1+x_2^2−7)^2$\n",
    "\n",
    "1. Show that this function has four local minimizers and at these minimums the function values are identical.  \n",
    "$f(3.0,2.0)=0.0$  \n",
    "$f(−2.805118,3.131312)=0.0$  \n",
    "$f(−3.779310,−3.283186)=0.0$  \n",
    "$f(3.584428,−1.848126)=0.0$  \n",
    "(This function has a maximizer at $f(−0.270845,−0.923039)=181.617$)."
   ]
  },
  {
   "cell_type": "code",
   "execution_count": 18,
   "metadata": {},
   "outputs": [
    {
     "name": "stdout",
     "output_type": "stream",
     "text": [
      "X1 = \n",
      "[3. 2.] \n",
      "f(X1) = \n",
      "[3. 2.] \n",
      "grad_f(X1) = \n",
      "[0. 0.] \n",
      "hes_f(X1) = \n",
      "[[74. 20.]\n",
      " [20. 34.]]\n",
      "X1 is a minimum\n",
      "\n",
      "X2 = \n",
      "[-2.805118  3.131312] \n",
      "f(X2) = \n",
      "[-2.805118  3.131312] \n",
      "grad_f(X2) = \n",
      "[ 4.97133560e-06 -4.15751018e-05] \n",
      "hes_f(X2) = \n",
      "[[64.94949193  1.304776  ]\n",
      " [ 1.304776   80.4409061 ]]\n",
      "X2 is a minimum\n",
      "\n",
      "X3 = \n",
      "[-3.77931  -3.283186] \n",
      "f(X3) = \n",
      "[-3.77931  -3.283186] \n",
      "grad_f(X3) = \n",
      "[ 2.97052500e-05 -7.92677776e-06] \n",
      "hes_f(X3) = \n",
      "[[116.26546491 -28.249984  ]\n",
      " [-28.249984    88.23448373]]\n",
      "X3 is a minimum\n",
      "\n",
      "X4 = \n",
      "[ 3.584428 -1.848126] \n",
      "f(X4) = \n",
      "[ 3.584428 -1.848126] \n",
      "grad_f(X4) = \n",
      "[-3.20016529e-05  1.30893338e-05] \n",
      "hes_f(X4) = \n",
      "[[104.78498505   6.945208  ]\n",
      " [  6.945208    29.32454854]]\n",
      "X4 is a minimum\n",
      "\n"
     ]
    }
   ],
   "source": [
    "import matplotlib.pyplot as plt\n",
    "import numpy as np\n",
    "import sympy as sym\n",
    "from matplotlib import cm\n",
    "from sympy import simplify\n",
    "\n",
    "f = lambda x: (((x[0,:]**2) + x[1,:] - 11)**2) + ((x[0,:] + (x[1,:]**2) -7)**2)\n",
    "grad_f = lambda x: np.array([[4*x[0,:]*(x[0,:]**2 + x[1,:] - 11) + 2*x[0,:] + 2*x[1,:]**2 -14], \n",
    "                             [2*x[0,:]**2 + 4*x[1,:]*(x[0,:] + x[1,:]**2 - 7) + 2*x[1,:] - 22]])\n",
    "hes_f = lambda x: np.array([[list(12*x[0,:]**2 + 4*x[1,:] - 42), list(4*x[0,:] + 4*x[1,:])], \n",
    "                            [list(4*x[0,:] + 4*x[1,:]), list(4*x[0,:] + 12*x[1,:]**2 - 26)]])\n",
    "\n",
    "X = np.array([[3.0, 2.0], [-2.805118, 3.131312], [-3.779310, -3.283186], [3.584428, -1.848126]])\n",
    "for k,Xk in enumerate(X):\n",
    "    Xk = Xk.squeeze()\n",
    "    grad_Xk = grad_f(Xk[:,None]).squeeze()\n",
    "    hes_Xk = hes_f(Xk[:,None]).squeeze()\n",
    "    print(f\"X{k+1} = \\n{Xk} \\nf(X{k+1}) = \\n{Xk} \\ngrad_f(X{k+1}) = \\n{grad_Xk} \\nhes_f(X{k+1}) = \\n{hes_Xk}\")\n",
    "    if not all(np.round(grad_Xk,3)):\n",
    "        print(f\"X{k+1} is a minimum\")\n",
    "    print()"
   ]
  },
  {
   "attachments": {},
   "cell_type": "markdown",
   "metadata": {},
   "source": [
    "2. Visualize this function using contour maps in the range $−5≤x_1≤5$ and $−5≤x_2≤5$"
   ]
  },
  {
   "cell_type": "code",
   "execution_count": 19,
   "metadata": {},
   "outputs": [
    {
     "data": {
      "image/png": "[encoded data removed]",
      "text/plain": [
       "<Figure size 700x600 with 1 Axes>"
      ]
     },
     "metadata": {},
     "output_type": "display_data"
    }
   ],
   "source": [
    "X_x, X_y = np.meshgrid(np.linspace(-5,5,51),np.linspace(-5,5,51))\n",
    "X = np.vstack((X_x.reshape([1,-1]),X_y.reshape([1,-1])))\n",
    "z = f(X)\n",
    "\n",
    "fig, ax = plt.subplots(figsize=(7,6))\n",
    "ax.contourf(X_x,X_y,z.reshape(X_x.shape), cmap=cm.coolwarm, levels=25, zorder=-1)\n",
    "fig.canvas.draw()"
   ]
  },
  {
   "attachments": {},
   "cell_type": "markdown",
   "metadata": {},
   "source": [
    "3. Choose the starting point $x0=(−1.0,0.0)$ and compute the steepest descent direction at that point."
   ]
  },
  {
   "cell_type": "code",
   "execution_count": 20,
   "metadata": {},
   "outputs": [
    {
     "name": "stdout",
     "output_type": "stream",
     "text": [
      "P0 = [-24  20]\n"
     ]
    }
   ],
   "source": [
    "X0 = np.array([-1, 0])\n",
    "grad_X0 = grad_f(X0[:,None]).squeeze()\n",
    "hes_X0 = hes_f(X0[:,None]).squeeze()\n",
    "P0 = -grad_X0\n",
    "print(f\"P0 = {P0}\")"
   ]
  },
  {
   "attachments": {},
   "cell_type": "markdown",
   "metadata": {},
   "source": [
    "4. Suppose you are using exact line search solution $α_k^*$ to minimize the function values given in this direction. Find the value of $α_k^*$.  \n",
    "(Refer class notes example done for quadratic functions)"
   ]
  },
  {
   "cell_type": "code",
   "execution_count": 21,
   "metadata": {},
   "outputs": [
    {
     "name": "stdout",
     "output_type": "stream",
     "text": [
      "alpha = -0.038364779874213835\n"
     ]
    }
   ],
   "source": [
    "alpha = np.linspace(0,0.2,100)\n",
    "phi = lambda alpha: f(X0[:,None] + alpha*P0[:, None])\n",
    "phi_prime = lambda alpha: grad_f(X0[:,None] + alpha*P0[:, None]).T @ P0[:, None]\n",
    "phi_taylor = lambda alpha: f(X0[:,None]).squeeze() + alpha*(grad_f(X0[:,None]).squeeze().T @ P0[:, None]) + ((alpha**2)/2)*(grad_f(X0[:,None]).squeeze().T @ hes_f(X0[:, None]).squeeze() @ grad_f(X0[:,None]).squeeze())\n",
    "\n",
    "e = 0.1\n",
    "\n",
    "alpha_min = (grad_X0.T @ grad_X0) / (grad_X0.T @ hes_X0 @ grad_X0)\n",
    "print(f\"alpha = {alpha_min}\")"
   ]
  },
  {
   "attachments": {},
   "cell_type": "markdown",
   "metadata": {},
   "source": [
    "5. Examin how the function changes its value along the search direction $d_k$. (You may alter the codes given in the example above)  \n",
    "Can you detect the global minimizer in this direction ?"
   ]
  },
  {
   "cell_type": "code",
   "execution_count": 22,
   "metadata": {},
   "outputs": [
    {
     "name": "stdout",
     "output_type": "stream",
     "text": [
      "Global minimizer for alpha = 0.09696969696969697\n"
     ]
    },
    {
     "data": {
      "image/png": "[encoded data removed]",
      "text/plain": [
       "<Figure size 640x480 with 1 Axes>"
      ]
     },
     "metadata": {},
     "output_type": "display_data"
    }
   ],
   "source": [
    "alpha_min_true = alpha[np.argmin(phi(alpha))]\n",
    "\n",
    "fig, ax = plt.subplots()\n",
    "ax.plot(alpha, phi(alpha), color=\"k\", linewidth=1.5, linestyle=\"-\",zorder=-1,label=r\"$\\phi(\\alpha)$\")\n",
    "ax.plot(alpha, [phi(0),]*len(alpha), color=\"r\", linewidth=0.5, linestyle=\"-\",label=r\"$\\psi_A(\\alpha)$\",zorder=-1)\n",
    "ax.plot(alpha, phi(0) + e*alpha*phi_prime(0).squeeze(), color=\"b\", linewidth=0.5, linestyle=\"-\",label=r\"$\\psi_B(\\alpha) = \\phi(0)+\\epsilon\\phi'(0)\\alpha$\",zorder=-1)\n",
    "ax.plot(alpha, phi(0) + 2*e*alpha*phi_prime(0).squeeze(), color=\"g\", linewidth=0.5, linestyle=\"-\",label=r\"$\\psi_B(\\alpha) = \\phi(0)+2\\epsilon\\phi'(0)\\alpha$\",zorder=-1)\n",
    "ax.plot(alpha, phi(2*alpha), color=\"g\", linewidth=0.5, linestyle=\"-\",zorder=-1,label=r\"$\\phi(2\\alpha)$\")\n",
    "ax.plot(alpha, phi_taylor(alpha), color=\"k\", linewidth=0.5, linestyle=\"--\",zorder=-1,label=r\"$\\phi_\\mathrm{taylor}(\\alpha)$\")\n",
    "ax.scatter([alpha_min,], [phi(alpha_min),], marker=\"o\", color=\"m\", edgecolors=\"k\", linestyle=\"None\",label=r\"$\\alpha^*$\",zorder=1)\n",
    "ypad = (max(phi(alpha)) - min(phi(alpha))) * 0.1\n",
    "ax.set_xlabel(r\"$\\alpha$\")\n",
    "ax.set_ylabel(r\"$\\phi(\\alpha)$\")\n",
    "ax.set_xlim((0,0.2))\n",
    "ax.set_ylim((min(phi(alpha))-ypad,max(phi(alpha))+ypad))\n",
    "ax.legend(ncol=1,loc='upper left',bbox_to_anchor=(1.01, 1.00))\n",
    "fig.canvas.draw()\n",
    "\n",
    "print(f\"Global minimizer for alpha = {alpha_min_true}\")"
   ]
  },
  {
   "attachments": {},
   "cell_type": "markdown",
   "metadata": {},
   "source": [
    "6. Compare the values of exact $α$ , true minimum $α$ and the range of α for Armijo conditions described in the above example."
   ]
  },
  {
   "cell_type": "code",
   "execution_count": 23,
   "metadata": {},
   "outputs": [
    {
     "data": {
      "text/latex": [
       "$\\displaystyle \\left(x_{1} + x_{2}^{2} - 7\\right)^{2} + \\left(x_{1}^{2} + x_{2} - 11\\right)^{2}$"
      ],
      "text/plain": [
       "(x_1 + x_2**2 - 7)**2 + (x_1**2 + x_2 - 11)**2"
      ]
     },
     "metadata": {},
     "output_type": "display_data"
    },
    {
     "data": {
      "text/latex": [
       "$\\displaystyle \\left[\\begin{matrix}4 x_{1} \\left(x_{1}^{2} + x_{2} - 11\\right) + 2 x_{1} + 2 x_{2}^{2} - 14\\\\2 x_{1}^{2} + 4 x_{2} \\left(x_{1} + x_{2}^{2} - 7\\right) + 2 x_{2} - 22\\end{matrix}\\right]$"
      ],
      "text/plain": [
       "Matrix([\n",
       "[4*x_1*(x_1**2 + x_2 - 11) + 2*x_1 + 2*x_2**2 - 14],\n",
       "[ 2*x_1**2 + 4*x_2*(x_1 + x_2**2 - 7) + 2*x_2 - 22]])"
      ]
     },
     "metadata": {},
     "output_type": "display_data"
    },
    {
     "data": {
      "text/latex": [
       "$\\displaystyle \\left[\\begin{matrix}12 x_{1}^{2} + 4 x_{2} - 42 & 4 x_{1} + 4 x_{2}\\\\4 x_{1} + 4 x_{2} & 4 x_{1} + 12 x_{2}^{2} - 26\\end{matrix}\\right]$"
      ],
      "text/plain": [
       "Matrix([\n",
       "[12*x_1**2 + 4*x_2 - 42,          4*x_1 + 4*x_2],\n",
       "[         4*x_1 + 4*x_2, 4*x_1 + 12*x_2**2 - 26]])"
      ]
     },
     "metadata": {},
     "output_type": "display_data"
    },
    {
     "data": {
      "text/latex": [
       "$\\displaystyle 491776 \\alpha^{4} + 59136 \\alpha^{3} - 12720 \\alpha^{2} - 976 \\alpha + 164$"
      ],
      "text/plain": [
       "491776*\\alpha**4 + 59136*\\alpha**3 - 12720*\\alpha**2 - 976*\\alpha + 164"
      ]
     },
     "metadata": {},
     "output_type": "display_data"
    },
    {
     "data": {
      "text/latex": [
       "$\\displaystyle \\left[\\begin{matrix}- 55296 \\alpha^{3} - 8032 \\alpha^{2} + 640 \\alpha + 24\\\\32000 \\alpha^{3} - 768 \\alpha^{2} - 504 \\alpha - 20\\end{matrix}\\right]$"
      ],
      "text/plain": [
       "Matrix([\n",
       "[-55296*\\alpha**3 - 8032*\\alpha**2 + 640*\\alpha + 24],\n",
       "[  32000*\\alpha**3 - 768*\\alpha**2 - 504*\\alpha - 20]])"
      ]
     },
     "metadata": {},
     "output_type": "display_data"
    },
    {
     "data": {
      "text/latex": [
       "$\\displaystyle 1967104 \\alpha^{3} + 177408 \\alpha^{2} - 25440 \\alpha - 976$"
      ],
      "text/plain": [
       "1967104*\\alpha**3 + 177408*\\alpha**2 - 25440*\\alpha - 976"
      ]
     },
     "metadata": {},
     "output_type": "display_data"
    },
    {
     "name": "stdout",
     "output_type": "stream",
     "text": [
      "True minimum line search solution = 0.0966751504169573\n"
     ]
    }
   ],
   "source": [
    "def get_real(roots, last=False):\n",
    "    reals = [root for root in roots if root.is_real]\n",
    "    if last:\n",
    "        return reals[-1]\n",
    "    else:\n",
    "        return reals[0]\n",
    "\n",
    "a = sym.Symbol(r\"\\alpha\", real=True)\n",
    "x1 = sym.Symbol(r\"x_1\")\n",
    "x2 = sym.Symbol(r\"x_2\")\n",
    "\n",
    "f_sym = (((x1**2) + x2 - 11)**2) + ((x1 + (x2**2) -7)**2)\n",
    "display(f_sym)\n",
    "\n",
    "# try the gradient approach\n",
    "gradf_sym = sym.Matrix([sym.diff(f_sym,x1),sym.diff(f_sym,x2)])\n",
    "display(gradf_sym)\n",
    "\n",
    "# Hessian\n",
    "Hf_sym = sym.Matrix([[sym.diff(gradf_sym[0],x1),sym.diff(gradf_sym[0],x2)], [sym.diff(gradf_sym[1],x1),sym.diff(gradf_sym[1],x2)]])\n",
    "display(Hf_sym)\n",
    "\n",
    "# substitute direction\n",
    "f_sym = f_sym.subs({x1:X0[0]+P0[0]*a, x2: X0[1]+P0[1]*a})\n",
    "display(f_sym.simplify())\n",
    "gradf_sym = gradf_sym.subs({x1:X0[0]+P0[0]*a, x2: X0[1]+P0[1]*a})\n",
    "display(gradf_sym.applyfunc(simplify))\n",
    "df_sym=gradf_sym.dot(sym.Matrix([P0[0],P0[1]]))\n",
    "display(df_sym.simplify())\n",
    "simplified_df = df_sym.simplify()\n",
    "coefficients = simplified_df.as_coefficients_dict()\n",
    "\n",
    "# Convert coefficients to a NumPy array\n",
    "coeff_array = np.array(list(coefficients.values()))\n",
    "reversed_arr = coeff_array[::-1]\n",
    "roots = np.roots(reversed_arr)\n",
    "\n",
    "# To get the lowest minimum root\n",
    "def positive_minimum_root(Roots):\n",
    "    positive_minimum_root = [i for i in Roots if i > 0]\n",
    "    return positive_minimum_root\n",
    "\n",
    "print(f\"True minimum line search solution = {float(positive_minimum_root(roots)[0])}\")"
   ]
  }
 ],
 "metadata": {
  "kernelspec": {
   "display_name": "Python 3",
   "language": "python",
   "name": "python3"
  },
  "language_info": {
   "name": "python",
   "version": "3.9.13"
  },
  "orig_nbformat": 4
 },
 "nbformat": 4,
 "nbformat_minor": 2
}
