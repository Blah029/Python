{
 "cells": [
  {
   "attachments": {},
   "cell_type": "markdown",
   "metadata": {},
   "source": [
    "# EM502 Lab 05: Optimality Conditions for CNOP and KKT Problems - E/17/371\n",
    "\n",
    "## Lab 05 Part I\n",
    "\n",
    "### Consider the following optimi ation problem\n",
    "\n",
    "Minimise\n",
    "$$f(x_1,x_2)=−x_1$$\n",
    "\n",
    "subject to\n",
    "$$g_1(x_1,x_2)=x_2-(1-x_1)^3<=0$$\n",
    "$$g_2(x_1,x_2)=-x_2<=0$$\n",
    "\n",
    "a) Using the helper functions provided determine if this problem admits Lagrange multipliers."
   ]
  },
  {
   "cell_type": "code",
   "execution_count": 9,
   "metadata": {},
   "outputs": [
    {
     "data": {
      "text/latex": [
       "$\\nabla \\mathbf{g1}=$"
      ],
      "text/plain": [
       "<IPython.core.display.Latex object>"
      ]
     },
     "metadata": {},
     "output_type": "display_data"
    },
    {
     "data": {
      "text/latex": [
       "$\\displaystyle \\left[\\begin{matrix}3 \\left(1 - x_{1}\\right)^{2}\\\\1\\end{matrix}\\right]$"
      ],
      "text/plain": [
       "Matrix([\n",
       "[3*(1 - x_1)**2],\n",
       "[             1]])"
      ]
     },
     "metadata": {},
     "output_type": "display_data"
    },
    {
     "data": {
      "text/latex": [
       "$\\nabla \\mathbf{g2}=$"
      ],
      "text/plain": [
       "<IPython.core.display.Latex object>"
      ]
     },
     "metadata": {},
     "output_type": "display_data"
    },
    {
     "data": {
      "text/latex": [
       "$\\displaystyle \\left[\\begin{matrix}0\\\\-1\\end{matrix}\\right]$"
      ],
      "text/plain": [
       "Matrix([\n",
       "[ 0],\n",
       "[-1]])"
      ]
     },
     "metadata": {},
     "output_type": "display_data"
    }
   ],
   "source": [
    "import matplotlib.lines as mlines\n",
    "import matplotlib.pyplot as plt\n",
    "import numpy as np\n",
    "import sympy as sym\n",
    "from IPython.display import display, Latex\n",
    "from matplotlib import patches\n",
    "from scipy import optimize as opt\n",
    "from sympy import pprint, latex, root\n",
    "\n",
    "# Define the Lagrangian and its gradient\n",
    "x1 = sym.Symbol(\"x_1\")\n",
    "x2 = sym.Symbol(\"x_2\")\n",
    "m1 = sym.Symbol(r\"\\mu_1\")\n",
    "m2 = sym.Symbol(r\"\\mu_2\")\n",
    "f = -x1\n",
    "g1 = x2 - (1-x1)**3\n",
    "g2 = -x2\n",
    "\n",
    "# Gradient of the constrats\n",
    "dg1 = sym.Matrix([sym.diff(g1,x1),sym.diff(g1,x2)])\n",
    "dg2 = sym.Matrix([sym.diff(g2,x1),sym.diff(g2,x2)])\n",
    "display(Latex(r\"$\\nabla \\mathbf{g1}=$\"),dg1)\n",
    "display(Latex(r\"$\\nabla \\mathbf{g2}=$\"),dg2)"
   ]
  },
  {
   "attachments": {},
   "cell_type": "markdown",
   "metadata": {},
   "source": [
    "> The gradients of the contraints are not linearly independent at $x1=1$. Therefore it is not a regular point, and the problemd does not admit Lagrangian multipliers\n",
    "\n",
    "b) Can you write the gradient of the objective function as a linear combination of the gradients of the constraints?"
   ]
  },
  {
   "cell_type": "code",
   "execution_count": 10,
   "metadata": {},
   "outputs": [
    {
     "data": {
      "text/latex": [
       "$\\nabla \\mathbf{f}=$"
      ],
      "text/plain": [
       "<IPython.core.display.Latex object>"
      ]
     },
     "metadata": {},
     "output_type": "display_data"
    },
    {
     "data": {
      "text/latex": [
       "$\\displaystyle \\left[\\begin{matrix}-1\\\\0\\end{matrix}\\right]$"
      ],
      "text/plain": [
       "Matrix([\n",
       "[-1],\n",
       "[ 0]])"
      ]
     },
     "metadata": {},
     "output_type": "display_data"
    }
   ],
   "source": [
    "# Gradient of the objective function\n",
    "df = sym.Matrix([sym.diff(f,x1),sym.diff(f,x2)])\n",
    "display(Latex(r\"$\\nabla \\mathbf{f}=$\"),df)"
   ]
  },
  {
   "attachments": {},
   "cell_type": "markdown",
   "metadata": {},
   "source": [
    "> Gradient of the objective function is perpendicular to those of the constraints, and cannot be written as a linear combination of those.\n",
    "\n",
    "### Ditermine the KKT points for the following CNOP. Check if they give local minimum points.\n",
    "\n",
    "a) Minimise \n",
    "$$f(x_1,x_2,x_3)=-3x_1+x_2-x_3^2$$\n",
    "subject to:\n",
    "$$g(x_1,x_2,x_3)=x_1+x_2-x_3<=0$$\n",
    "$$h(x_1,x_2,x_3)=-x_1+2x_2-x_3^2=0$$"
   ]
  },
  {
   "cell_type": "code",
   "execution_count": 19,
   "metadata": {},
   "outputs": [
    {
     "data": {
      "text/latex": [
       "$L=$"
      ],
      "text/plain": [
       "<IPython.core.display.Latex object>"
      ]
     },
     "metadata": {},
     "output_type": "display_data"
    },
    {
     "data": {
      "text/latex": [
       "$\\displaystyle \\lambda \\left(- x_{1} + 2 x_{2} + x_{3}^{2}\\right) + \\mu \\left(x_{1} + x_{2} + x_{3}\\right) - 3 x_{1} + x_{2} - x_{3}^{2}$"
      ],
      "text/plain": [
       "\\lambda*(-x_1 + 2*x_2 + x_3**2) + \\mu*(x_1 + x_2 + x_3) - 3*x_1 + x_2 - x_3**2"
      ]
     },
     "metadata": {},
     "output_type": "display_data"
    },
    {
     "data": {
      "text/latex": [
       "$\\nabla L=$"
      ],
      "text/plain": [
       "<IPython.core.display.Latex object>"
      ]
     },
     "metadata": {},
     "output_type": "display_data"
    },
    {
     "data": {
      "text/latex": [
       "$\\displaystyle \\left[\\begin{matrix}- \\lambda + \\mu - 3\\\\2 \\lambda + \\mu + 1\\\\2 \\lambda x_{3} + \\mu - 2 x_{3}\\end{matrix}\\right]$"
      ],
      "text/plain": [
       "Matrix([\n",
       "[         -\\lambda + \\mu - 3],\n",
       "[        2*\\lambda + \\mu + 1],\n",
       "[2*\\lambda*x_3 + \\mu - 2*x_3]])"
      ]
     },
     "metadata": {},
     "output_type": "display_data"
    },
    {
     "data": {
      "text/latex": [
       "$\\nabla^2 L=$"
      ],
      "text/plain": [
       "<IPython.core.display.Latex object>"
      ]
     },
     "metadata": {},
     "output_type": "display_data"
    },
    {
     "data": {
      "text/latex": [
       "$\\displaystyle \\left[\\begin{matrix}0 & 0 & 0\\\\0 & 0 & 0\\\\0 & 0 & 2 \\lambda - 2\\end{matrix}\\right]$"
      ],
      "text/plain": [
       "Matrix([\n",
       "[0, 0,             0],\n",
       "[0, 0,             0],\n",
       "[0, 0, 2*\\lambda - 2]])"
      ]
     },
     "metadata": {},
     "output_type": "display_data"
    },
    {
     "data": {
      "text/latex": [
       "$X=$"
      ],
      "text/plain": [
       "<IPython.core.display.Latex object>"
      ]
     },
     "metadata": {},
     "output_type": "display_data"
    },
    {
     "data": {
      "text/latex": [
       "$\\displaystyle \\left[\\begin{matrix}- \\frac{115}{588}\\\\- \\frac{95}{588}\\\\\\frac{5}{14}\\end{matrix}\\right]$"
      ],
      "text/plain": [
       "Matrix([\n",
       "[-115/588],\n",
       "[ -95/588],\n",
       "[    5/14]])"
      ]
     },
     "metadata": {},
     "output_type": "display_data"
    },
    {
     "data": {
      "text/latex": [
       "$\\mu=$"
      ],
      "text/plain": [
       "<IPython.core.display.Latex object>"
      ]
     },
     "metadata": {},
     "output_type": "display_data"
    },
    {
     "data": {
      "text/latex": [
       "$\\displaystyle \\frac{5}{3}$"
      ],
      "text/plain": [
       "5/3"
      ]
     },
     "metadata": {},
     "output_type": "display_data"
    },
    {
     "data": {
      "text/latex": [
       "$\\lambda=$"
      ],
      "text/plain": [
       "<IPython.core.display.Latex object>"
      ]
     },
     "metadata": {},
     "output_type": "display_data"
    },
    {
     "data": {
      "text/latex": [
       "$\\displaystyle - \\frac{4}{3}$"
      ],
      "text/plain": [
       "-4/3"
      ]
     },
     "metadata": {},
     "output_type": "display_data"
    },
    {
     "data": {
      "text/latex": [
       "$\\nabla^2 L=$"
      ],
      "text/plain": [
       "<IPython.core.display.Latex object>"
      ]
     },
     "metadata": {},
     "output_type": "display_data"
    },
    {
     "data": {
      "text/latex": [
       "$\\displaystyle \\left[\\begin{matrix}0 & 0 & 0\\\\0 & 0 & 0\\\\0 & 0 & - \\frac{14}{3}\\end{matrix}\\right]$"
      ],
      "text/plain": [
       "Matrix([\n",
       "[0, 0,     0],\n",
       "[0, 0,     0],\n",
       "[0, 0, -14/3]])"
      ]
     },
     "metadata": {},
     "output_type": "display_data"
    }
   ],
   "source": [
    "x1 = sym.Symbol(\"x_1\")\n",
    "x2 = sym.Symbol(\"x_2\")\n",
    "x3 = sym.Symbol(\"x_3\")\n",
    "m = sym.Symbol(r\"\\mu\")\n",
    "l = sym.Symbol(r\"\\lambda\")\n",
    "f = -3*x1 + x2 - x3**2\n",
    "g = x1 + x2 + x3\n",
    "h = -x1 + 2*x2 + x3**2\n",
    "L = f + m*g + l*h\n",
    "display(Latex(r\"$L=$\"),L)\n",
    "\n",
    "dL = sym.Matrix([[sym.diff(L,x1)],[sym.diff(L,x2)],[sym.diff(L,x3)]])\n",
    "display(Latex(r\"$\\nabla L=$\"),dL)\n",
    "\n",
    "dL2 = sym.Matrix([\n",
    "        [sym.diff(dL[0],x1),sym.diff(dL[0],x2),sym.diff(dL[0],x3)],\n",
    "        [sym.diff(dL[1],x1),sym.diff(dL[1],x2),sym.diff(dL[1],x3)],\n",
    "        [sym.diff(dL[2],x1),sym.diff(dL[2],x2),sym.diff(dL[2],x3)],\n",
    "    ])\n",
    "display(Latex(r\"$\\nabla^2 L=$\"),dL2)\n",
    "\n",
    "kkt = (sym.diff(L,x1), sym.diff(L,x2), sym.diff(L,x3), m*g, l*h)\n",
    "sol = sym.solve(kkt,(x1,x2,x3,m,l))\n",
    "display(Latex(r\"$X=$\"),sym.Matrix(sol[0][:3]))\n",
    "display(Latex(r\"$\\mu=$\"),sol[0][3])\n",
    "display(Latex(r\"$\\lambda=$\"),sol[0][4])\n",
    "display(Latex(r\"$\\nabla^2 L=$\"),dL2.subs({m:sol[0][3],l:sol[0][4]}))\n"
   ]
  },
  {
   "attachments": {},
   "cell_type": "markdown",
   "metadata": {},
   "source": [
    "> $\\nabla^2 L$ contains a negative value. Not posittive definite. $X$ is not a minimum.\n",
    "\n",
    "b) Minimise \n",
    "$$f(x_1,x_2,x_3)=x_1^2+x_2^2+x_3^2$$\n",
    "subject to:\n",
    "$$h_1(x_1,x_2,x_3)=\\frac{x_1^2}{4}+\\frac{x_2^2}{5}+\\frac{x_3^2}{25}-1=0$$\n",
    "$$h_2(x_1,x_2,x_3)=x_1+x_2-x_3=0$$"
   ]
  },
  {
   "cell_type": "code",
   "execution_count": 20,
   "metadata": {},
   "outputs": [
    {
     "data": {
      "text/latex": [
       "$L=$"
      ],
      "text/plain": [
       "<IPython.core.display.Latex object>"
      ]
     },
     "metadata": {},
     "output_type": "display_data"
    },
    {
     "data": {
      "text/latex": [
       "$\\displaystyle \\lambda_{1} \\left(\\frac{x_{1}^{2}}{4} + \\frac{x_{2}^{2}}{5} + \\frac{x_{3}^{2}}{25} - 1\\right) + \\lambda_{2} \\left(x_{1} + x_{2} - x_{3}\\right) + x_{1}^{2} + x_{2}^{2} + x_{3}^{2}$"
      ],
      "text/plain": [
       "\\lambda_1*(x_1**2/4 + x_2**2/5 + x_3**2/25 - 1) + \\lambda_2*(x_1 + x_2 - x_3) + x_1**2 + x_2**2 + x_3**2"
      ]
     },
     "metadata": {},
     "output_type": "display_data"
    },
    {
     "data": {
      "text/latex": [
       "$\\nabla L=$"
      ],
      "text/plain": [
       "<IPython.core.display.Latex object>"
      ]
     },
     "metadata": {},
     "output_type": "display_data"
    },
    {
     "data": {
      "text/latex": [
       "$\\displaystyle \\left[\\begin{matrix}\\frac{\\lambda_{1} x_{1}}{2} + \\lambda_{2} + 2 x_{1}\\\\\\frac{2 \\lambda_{1} x_{2}}{5} + \\lambda_{2} + 2 x_{2}\\\\\\frac{2 \\lambda_{1} x_{3}}{25} - \\lambda_{2} + 2 x_{3}\\end{matrix}\\right]$"
      ],
      "text/plain": [
       "Matrix([\n",
       "[   \\lambda_1*x_1/2 + \\lambda_2 + 2*x_1],\n",
       "[ 2*\\lambda_1*x_2/5 + \\lambda_2 + 2*x_2],\n",
       "[2*\\lambda_1*x_3/25 - \\lambda_2 + 2*x_3]])"
      ]
     },
     "metadata": {},
     "output_type": "display_data"
    },
    {
     "data": {
      "text/latex": [
       "$\\nabla^2 L=$"
      ],
      "text/plain": [
       "<IPython.core.display.Latex object>"
      ]
     },
     "metadata": {},
     "output_type": "display_data"
    },
    {
     "data": {
      "text/latex": [
       "$\\displaystyle \\left[\\begin{matrix}\\frac{\\lambda_{1}}{2} + 2 & 0 & 0\\\\0 & \\frac{2 \\lambda_{1}}{5} + 2 & 0\\\\0 & 0 & \\frac{2 \\lambda_{1}}{25} + 2\\end{matrix}\\right]$"
      ],
      "text/plain": [
       "Matrix([\n",
       "[\\lambda_1/2 + 2,                 0,                  0],\n",
       "[              0, 2*\\lambda_1/5 + 2,                  0],\n",
       "[              0,                 0, 2*\\lambda_1/25 + 2]])"
      ]
     },
     "metadata": {},
     "output_type": "display_data"
    },
    {
     "name": "stdout",
     "output_type": "stream",
     "text": [
      "\n",
      "Solution 1:\n"
     ]
    },
    {
     "data": {
      "text/latex": [
       "$X=$"
      ],
      "text/plain": [
       "<IPython.core.display.Latex object>"
      ]
     },
     "metadata": {},
     "output_type": "display_data"
    },
    {
     "data": {
      "text/latex": [
       "$\\displaystyle \\left[\\begin{matrix}-2\\\\0\\\\0\\end{matrix}\\right]$"
      ],
      "text/plain": [
       "Matrix([\n",
       "[-2],\n",
       "[ 0],\n",
       "[ 0]])"
      ]
     },
     "metadata": {},
     "output_type": "display_data"
    },
    {
     "data": {
      "text/latex": [
       "$\\lambda=$"
      ],
      "text/plain": [
       "<IPython.core.display.Latex object>"
      ]
     },
     "metadata": {},
     "output_type": "display_data"
    },
    {
     "data": {
      "text/latex": [
       "$\\displaystyle \\left[\\begin{matrix}-4\\\\0\\end{matrix}\\right]$"
      ],
      "text/plain": [
       "Matrix([\n",
       "[-4],\n",
       "[ 0]])"
      ]
     },
     "metadata": {},
     "output_type": "display_data"
    },
    {
     "data": {
      "text/latex": [
       "$f(X)=$"
      ],
      "text/plain": [
       "<IPython.core.display.Latex object>"
      ]
     },
     "metadata": {},
     "output_type": "display_data"
    },
    {
     "data": {
      "text/latex": [
       "4.000"
      ],
      "text/plain": [
       "<IPython.core.display.Latex object>"
      ]
     },
     "metadata": {},
     "output_type": "display_data"
    },
    {
     "data": {
      "text/latex": [
       "$\\nabla^2 L=$"
      ],
      "text/plain": [
       "<IPython.core.display.Latex object>"
      ]
     },
     "metadata": {},
     "output_type": "display_data"
    },
    {
     "data": {
      "text/latex": [
       "$\\displaystyle \\left[\\begin{matrix}0 & 0 & 0\\\\0 & \\frac{2}{5} & 0\\\\0 & 0 & \\frac{42}{25}\\end{matrix}\\right]$"
      ],
      "text/plain": [
       "Matrix([\n",
       "[0,   0,     0],\n",
       "[0, 2/5,     0],\n",
       "[0,   0, 42/25]])"
      ]
     },
     "metadata": {},
     "output_type": "display_data"
    },
    {
     "name": "stdout",
     "output_type": "stream",
     "text": [
      "\n",
      "Solution 2:\n"
     ]
    },
    {
     "data": {
      "text/latex": [
       "$X=$"
      ],
      "text/plain": [
       "<IPython.core.display.Latex object>"
      ]
     },
     "metadata": {},
     "output_type": "display_data"
    },
    {
     "data": {
      "text/latex": [
       "$\\displaystyle \\left[\\begin{matrix}0\\\\0\\\\-5\\end{matrix}\\right]$"
      ],
      "text/plain": [
       "Matrix([\n",
       "[ 0],\n",
       "[ 0],\n",
       "[-5]])"
      ]
     },
     "metadata": {},
     "output_type": "display_data"
    },
    {
     "data": {
      "text/latex": [
       "$\\lambda=$"
      ],
      "text/plain": [
       "<IPython.core.display.Latex object>"
      ]
     },
     "metadata": {},
     "output_type": "display_data"
    },
    {
     "data": {
      "text/latex": [
       "$\\displaystyle \\left[\\begin{matrix}-25\\\\0\\end{matrix}\\right]$"
      ],
      "text/plain": [
       "Matrix([\n",
       "[-25],\n",
       "[  0]])"
      ]
     },
     "metadata": {},
     "output_type": "display_data"
    },
    {
     "data": {
      "text/latex": [
       "$f(X)=$"
      ],
      "text/plain": [
       "<IPython.core.display.Latex object>"
      ]
     },
     "metadata": {},
     "output_type": "display_data"
    },
    {
     "data": {
      "text/latex": [
       "25.000"
      ],
      "text/plain": [
       "<IPython.core.display.Latex object>"
      ]
     },
     "metadata": {},
     "output_type": "display_data"
    },
    {
     "data": {
      "text/latex": [
       "$\\nabla^2 L=$"
      ],
      "text/plain": [
       "<IPython.core.display.Latex object>"
      ]
     },
     "metadata": {},
     "output_type": "display_data"
    },
    {
     "data": {
      "text/latex": [
       "$\\displaystyle \\left[\\begin{matrix}- \\frac{21}{2} & 0 & 0\\\\0 & -8 & 0\\\\0 & 0 & 0\\end{matrix}\\right]$"
      ],
      "text/plain": [
       "Matrix([\n",
       "[-21/2,  0, 0],\n",
       "[    0, -8, 0],\n",
       "[    0,  0, 0]])"
      ]
     },
     "metadata": {},
     "output_type": "display_data"
    },
    {
     "name": "stdout",
     "output_type": "stream",
     "text": [
      "\n",
      "Solution 3:\n"
     ]
    },
    {
     "data": {
      "text/latex": [
       "$X=$"
      ],
      "text/plain": [
       "<IPython.core.display.Latex object>"
      ]
     },
     "metadata": {},
     "output_type": "display_data"
    },
    {
     "data": {
      "text/latex": [
       "$\\displaystyle \\left[\\begin{matrix}0\\\\0\\\\0\\end{matrix}\\right]$"
      ],
      "text/plain": [
       "Matrix([\n",
       "[0],\n",
       "[0],\n",
       "[0]])"
      ]
     },
     "metadata": {},
     "output_type": "display_data"
    },
    {
     "data": {
      "text/latex": [
       "$\\lambda=$"
      ],
      "text/plain": [
       "<IPython.core.display.Latex object>"
      ]
     },
     "metadata": {},
     "output_type": "display_data"
    },
    {
     "data": {
      "text/latex": [
       "$\\displaystyle \\left[\\begin{matrix}0\\\\0\\end{matrix}\\right]$"
      ],
      "text/plain": [
       "Matrix([\n",
       "[0],\n",
       "[0]])"
      ]
     },
     "metadata": {},
     "output_type": "display_data"
    },
    {
     "data": {
      "text/latex": [
       "$f(X)=$"
      ],
      "text/plain": [
       "<IPython.core.display.Latex object>"
      ]
     },
     "metadata": {},
     "output_type": "display_data"
    },
    {
     "data": {
      "text/latex": [
       "0.000"
      ],
      "text/plain": [
       "<IPython.core.display.Latex object>"
      ]
     },
     "metadata": {},
     "output_type": "display_data"
    },
    {
     "data": {
      "text/latex": [
       "$\\nabla^2 L=$"
      ],
      "text/plain": [
       "<IPython.core.display.Latex object>"
      ]
     },
     "metadata": {},
     "output_type": "display_data"
    },
    {
     "data": {
      "text/latex": [
       "$\\displaystyle \\left[\\begin{matrix}2 & 0 & 0\\\\0 & 2 & 0\\\\0 & 0 & 2\\end{matrix}\\right]$"
      ],
      "text/plain": [
       "Matrix([\n",
       "[2, 0, 0],\n",
       "[0, 2, 0],\n",
       "[0, 0, 2]])"
      ]
     },
     "metadata": {},
     "output_type": "display_data"
    },
    {
     "name": "stdout",
     "output_type": "stream",
     "text": [
      "INVALID MULTIPLIERS\n",
      "\n",
      "Solution 4:\n"
     ]
    },
    {
     "data": {
      "text/latex": [
       "$X=$"
      ],
      "text/plain": [
       "<IPython.core.display.Latex object>"
      ]
     },
     "metadata": {},
     "output_type": "display_data"
    },
    {
     "data": {
      "text/latex": [
       "$\\displaystyle \\left[\\begin{matrix}0\\\\0\\\\5\\end{matrix}\\right]$"
      ],
      "text/plain": [
       "Matrix([\n",
       "[0],\n",
       "[0],\n",
       "[5]])"
      ]
     },
     "metadata": {},
     "output_type": "display_data"
    },
    {
     "data": {
      "text/latex": [
       "$\\lambda=$"
      ],
      "text/plain": [
       "<IPython.core.display.Latex object>"
      ]
     },
     "metadata": {},
     "output_type": "display_data"
    },
    {
     "data": {
      "text/latex": [
       "$\\displaystyle \\left[\\begin{matrix}-25\\\\0\\end{matrix}\\right]$"
      ],
      "text/plain": [
       "Matrix([\n",
       "[-25],\n",
       "[  0]])"
      ]
     },
     "metadata": {},
     "output_type": "display_data"
    },
    {
     "data": {
      "text/latex": [
       "$f(X)=$"
      ],
      "text/plain": [
       "<IPython.core.display.Latex object>"
      ]
     },
     "metadata": {},
     "output_type": "display_data"
    },
    {
     "data": {
      "text/latex": [
       "25.000"
      ],
      "text/plain": [
       "<IPython.core.display.Latex object>"
      ]
     },
     "metadata": {},
     "output_type": "display_data"
    },
    {
     "data": {
      "text/latex": [
       "$\\nabla^2 L=$"
      ],
      "text/plain": [
       "<IPython.core.display.Latex object>"
      ]
     },
     "metadata": {},
     "output_type": "display_data"
    },
    {
     "data": {
      "text/latex": [
       "$\\displaystyle \\left[\\begin{matrix}- \\frac{21}{2} & 0 & 0\\\\0 & -8 & 0\\\\0 & 0 & 0\\end{matrix}\\right]$"
      ],
      "text/plain": [
       "Matrix([\n",
       "[-21/2,  0, 0],\n",
       "[    0, -8, 0],\n",
       "[    0,  0, 0]])"
      ]
     },
     "metadata": {},
     "output_type": "display_data"
    },
    {
     "name": "stdout",
     "output_type": "stream",
     "text": [
      "\n",
      "Solution 5:\n"
     ]
    },
    {
     "data": {
      "text/latex": [
       "$X=$"
      ],
      "text/plain": [
       "<IPython.core.display.Latex object>"
      ]
     },
     "metadata": {},
     "output_type": "display_data"
    },
    {
     "data": {
      "text/latex": [
       "$\\displaystyle \\left[\\begin{matrix}0\\\\- \\sqrt{5}\\\\0\\end{matrix}\\right]$"
      ],
      "text/plain": [
       "Matrix([\n",
       "[       0],\n",
       "[-sqrt(5)],\n",
       "[       0]])"
      ]
     },
     "metadata": {},
     "output_type": "display_data"
    },
    {
     "data": {
      "text/latex": [
       "$\\lambda=$"
      ],
      "text/plain": [
       "<IPython.core.display.Latex object>"
      ]
     },
     "metadata": {},
     "output_type": "display_data"
    },
    {
     "data": {
      "text/latex": [
       "$\\displaystyle \\left[\\begin{matrix}-5\\\\0\\end{matrix}\\right]$"
      ],
      "text/plain": [
       "Matrix([\n",
       "[-5],\n",
       "[ 0]])"
      ]
     },
     "metadata": {},
     "output_type": "display_data"
    },
    {
     "data": {
      "text/latex": [
       "$f(X)=$"
      ],
      "text/plain": [
       "<IPython.core.display.Latex object>"
      ]
     },
     "metadata": {},
     "output_type": "display_data"
    },
    {
     "data": {
      "text/latex": [
       "5.000"
      ],
      "text/plain": [
       "<IPython.core.display.Latex object>"
      ]
     },
     "metadata": {},
     "output_type": "display_data"
    },
    {
     "data": {
      "text/latex": [
       "$\\nabla^2 L=$"
      ],
      "text/plain": [
       "<IPython.core.display.Latex object>"
      ]
     },
     "metadata": {},
     "output_type": "display_data"
    },
    {
     "data": {
      "text/latex": [
       "$\\displaystyle \\left[\\begin{matrix}- \\frac{1}{2} & 0 & 0\\\\0 & 0 & 0\\\\0 & 0 & \\frac{8}{5}\\end{matrix}\\right]$"
      ],
      "text/plain": [
       "Matrix([\n",
       "[-1/2, 0,   0],\n",
       "[   0, 0,   0],\n",
       "[   0, 0, 8/5]])"
      ]
     },
     "metadata": {},
     "output_type": "display_data"
    },
    {
     "name": "stdout",
     "output_type": "stream",
     "text": [
      "\n",
      "Solution 6:\n"
     ]
    },
    {
     "data": {
      "text/latex": [
       "$X=$"
      ],
      "text/plain": [
       "<IPython.core.display.Latex object>"
      ]
     },
     "metadata": {},
     "output_type": "display_data"
    },
    {
     "data": {
      "text/latex": [
       "$\\displaystyle \\left[\\begin{matrix}0\\\\\\sqrt{5}\\\\0\\end{matrix}\\right]$"
      ],
      "text/plain": [
       "Matrix([\n",
       "[      0],\n",
       "[sqrt(5)],\n",
       "[      0]])"
      ]
     },
     "metadata": {},
     "output_type": "display_data"
    },
    {
     "data": {
      "text/latex": [
       "$\\lambda=$"
      ],
      "text/plain": [
       "<IPython.core.display.Latex object>"
      ]
     },
     "metadata": {},
     "output_type": "display_data"
    },
    {
     "data": {
      "text/latex": [
       "$\\displaystyle \\left[\\begin{matrix}-5\\\\0\\end{matrix}\\right]$"
      ],
      "text/plain": [
       "Matrix([\n",
       "[-5],\n",
       "[ 0]])"
      ]
     },
     "metadata": {},
     "output_type": "display_data"
    },
    {
     "data": {
      "text/latex": [
       "$f(X)=$"
      ],
      "text/plain": [
       "<IPython.core.display.Latex object>"
      ]
     },
     "metadata": {},
     "output_type": "display_data"
    },
    {
     "data": {
      "text/latex": [
       "5.000"
      ],
      "text/plain": [
       "<IPython.core.display.Latex object>"
      ]
     },
     "metadata": {},
     "output_type": "display_data"
    },
    {
     "data": {
      "text/latex": [
       "$\\nabla^2 L=$"
      ],
      "text/plain": [
       "<IPython.core.display.Latex object>"
      ]
     },
     "metadata": {},
     "output_type": "display_data"
    },
    {
     "data": {
      "text/latex": [
       "$\\displaystyle \\left[\\begin{matrix}- \\frac{1}{2} & 0 & 0\\\\0 & 0 & 0\\\\0 & 0 & \\frac{8}{5}\\end{matrix}\\right]$"
      ],
      "text/plain": [
       "Matrix([\n",
       "[-1/2, 0,   0],\n",
       "[   0, 0,   0],\n",
       "[   0, 0, 8/5]])"
      ]
     },
     "metadata": {},
     "output_type": "display_data"
    },
    {
     "name": "stdout",
     "output_type": "stream",
     "text": [
      "\n",
      "Solution 7:\n"
     ]
    },
    {
     "data": {
      "text/latex": [
       "$X=$"
      ],
      "text/plain": [
       "<IPython.core.display.Latex object>"
      ]
     },
     "metadata": {},
     "output_type": "display_data"
    },
    {
     "data": {
      "text/latex": [
       "$\\displaystyle \\left[\\begin{matrix}2\\\\0\\\\0\\end{matrix}\\right]$"
      ],
      "text/plain": [
       "Matrix([\n",
       "[2],\n",
       "[0],\n",
       "[0]])"
      ]
     },
     "metadata": {},
     "output_type": "display_data"
    },
    {
     "data": {
      "text/latex": [
       "$\\lambda=$"
      ],
      "text/plain": [
       "<IPython.core.display.Latex object>"
      ]
     },
     "metadata": {},
     "output_type": "display_data"
    },
    {
     "data": {
      "text/latex": [
       "$\\displaystyle \\left[\\begin{matrix}-4\\\\0\\end{matrix}\\right]$"
      ],
      "text/plain": [
       "Matrix([\n",
       "[-4],\n",
       "[ 0]])"
      ]
     },
     "metadata": {},
     "output_type": "display_data"
    },
    {
     "data": {
      "text/latex": [
       "$f(X)=$"
      ],
      "text/plain": [
       "<IPython.core.display.Latex object>"
      ]
     },
     "metadata": {},
     "output_type": "display_data"
    },
    {
     "data": {
      "text/latex": [
       "4.000"
      ],
      "text/plain": [
       "<IPython.core.display.Latex object>"
      ]
     },
     "metadata": {},
     "output_type": "display_data"
    },
    {
     "data": {
      "text/latex": [
       "$\\nabla^2 L=$"
      ],
      "text/plain": [
       "<IPython.core.display.Latex object>"
      ]
     },
     "metadata": {},
     "output_type": "display_data"
    },
    {
     "data": {
      "text/latex": [
       "$\\displaystyle \\left[\\begin{matrix}0 & 0 & 0\\\\0 & \\frac{2}{5} & 0\\\\0 & 0 & \\frac{42}{25}\\end{matrix}\\right]$"
      ],
      "text/plain": [
       "Matrix([\n",
       "[0,   0,     0],\n",
       "[0, 2/5,     0],\n",
       "[0,   0, 42/25]])"
      ]
     },
     "metadata": {},
     "output_type": "display_data"
    },
    {
     "name": "stdout",
     "output_type": "stream",
     "text": [
      "\n",
      "Solution 8:\n"
     ]
    },
    {
     "data": {
      "text/latex": [
       "$X=$"
      ],
      "text/plain": [
       "<IPython.core.display.Latex object>"
      ]
     },
     "metadata": {},
     "output_type": "display_data"
    },
    {
     "data": {
      "text/latex": [
       "$\\displaystyle \\left[\\begin{matrix}- \\frac{20 \\sqrt{646}}{323}\\\\\\frac{35 \\sqrt{646}}{646}\\\\- \\frac{5 \\sqrt{646}}{646}\\end{matrix}\\right]$"
      ],
      "text/plain": [
       "Matrix([\n",
       "[-20*sqrt(646)/323],\n",
       "[ 35*sqrt(646)/646],\n",
       "[ -5*sqrt(646)/646]])"
      ]
     },
     "metadata": {},
     "output_type": "display_data"
    },
    {
     "data": {
      "text/latex": [
       "$\\lambda=$"
      ],
      "text/plain": [
       "<IPython.core.display.Latex object>"
      ]
     },
     "metadata": {},
     "output_type": "display_data"
    },
    {
     "data": {
      "text/latex": [
       "$\\displaystyle \\left[\\begin{matrix}- \\frac{75}{17}\\\\- \\frac{70 \\sqrt{646}}{5491}\\end{matrix}\\right]$"
      ],
      "text/plain": [
       "Matrix([\n",
       "[            -75/17],\n",
       "[-70*sqrt(646)/5491]])"
      ]
     },
     "metadata": {},
     "output_type": "display_data"
    },
    {
     "data": {
      "text/latex": [
       "$f(X)=$"
      ],
      "text/plain": [
       "<IPython.core.display.Latex object>"
      ]
     },
     "metadata": {},
     "output_type": "display_data"
    },
    {
     "data": {
      "text/latex": [
       "4.412"
      ],
      "text/plain": [
       "<IPython.core.display.Latex object>"
      ]
     },
     "metadata": {},
     "output_type": "display_data"
    },
    {
     "data": {
      "text/latex": [
       "$\\nabla^2 L=$"
      ],
      "text/plain": [
       "<IPython.core.display.Latex object>"
      ]
     },
     "metadata": {},
     "output_type": "display_data"
    },
    {
     "data": {
      "text/latex": [
       "$\\displaystyle \\left[\\begin{matrix}- \\frac{7}{34} & 0 & 0\\\\0 & \\frac{4}{17} & 0\\\\0 & 0 & \\frac{28}{17}\\end{matrix}\\right]$"
      ],
      "text/plain": [
       "Matrix([\n",
       "[-7/34,    0,     0],\n",
       "[    0, 4/17,     0],\n",
       "[    0,    0, 28/17]])"
      ]
     },
     "metadata": {},
     "output_type": "display_data"
    },
    {
     "name": "stdout",
     "output_type": "stream",
     "text": [
      "\n",
      "Solution 9:\n"
     ]
    },
    {
     "data": {
      "text/latex": [
       "$X=$"
      ],
      "text/plain": [
       "<IPython.core.display.Latex object>"
      ]
     },
     "metadata": {},
     "output_type": "display_data"
    },
    {
     "data": {
      "text/latex": [
       "$\\displaystyle \\left[\\begin{matrix}\\frac{20 \\sqrt{646}}{323}\\\\- \\frac{35 \\sqrt{646}}{646}\\\\\\frac{5 \\sqrt{646}}{646}\\end{matrix}\\right]$"
      ],
      "text/plain": [
       "Matrix([\n",
       "[ 20*sqrt(646)/323],\n",
       "[-35*sqrt(646)/646],\n",
       "[  5*sqrt(646)/646]])"
      ]
     },
     "metadata": {},
     "output_type": "display_data"
    },
    {
     "data": {
      "text/latex": [
       "$\\lambda=$"
      ],
      "text/plain": [
       "<IPython.core.display.Latex object>"
      ]
     },
     "metadata": {},
     "output_type": "display_data"
    },
    {
     "data": {
      "text/latex": [
       "$\\displaystyle \\left[\\begin{matrix}- \\frac{75}{17}\\\\\\frac{70 \\sqrt{646}}{5491}\\end{matrix}\\right]$"
      ],
      "text/plain": [
       "Matrix([\n",
       "[           -75/17],\n",
       "[70*sqrt(646)/5491]])"
      ]
     },
     "metadata": {},
     "output_type": "display_data"
    },
    {
     "data": {
      "text/latex": [
       "$f(X)=$"
      ],
      "text/plain": [
       "<IPython.core.display.Latex object>"
      ]
     },
     "metadata": {},
     "output_type": "display_data"
    },
    {
     "data": {
      "text/latex": [
       "4.412"
      ],
      "text/plain": [
       "<IPython.core.display.Latex object>"
      ]
     },
     "metadata": {},
     "output_type": "display_data"
    },
    {
     "data": {
      "text/latex": [
       "$\\nabla^2 L=$"
      ],
      "text/plain": [
       "<IPython.core.display.Latex object>"
      ]
     },
     "metadata": {},
     "output_type": "display_data"
    },
    {
     "data": {
      "text/latex": [
       "$\\displaystyle \\left[\\begin{matrix}- \\frac{7}{34} & 0 & 0\\\\0 & \\frac{4}{17} & 0\\\\0 & 0 & \\frac{28}{17}\\end{matrix}\\right]$"
      ],
      "text/plain": [
       "Matrix([\n",
       "[-7/34,    0,     0],\n",
       "[    0, 4/17,     0],\n",
       "[    0,    0, 28/17]])"
      ]
     },
     "metadata": {},
     "output_type": "display_data"
    },
    {
     "name": "stdout",
     "output_type": "stream",
     "text": [
      "\n",
      "Solution 10:\n"
     ]
    },
    {
     "data": {
      "text/latex": [
       "$X=$"
      ],
      "text/plain": [
       "<IPython.core.display.Latex object>"
      ]
     },
     "metadata": {},
     "output_type": "display_data"
    },
    {
     "data": {
      "text/latex": [
       "$\\displaystyle \\left[\\begin{matrix}- \\frac{2 \\sqrt{95}}{19}\\\\- \\frac{3 \\sqrt{95}}{19}\\\\- \\frac{5 \\sqrt{95}}{19}\\end{matrix}\\right]$"
      ],
      "text/plain": [
       "Matrix([\n",
       "[-2*sqrt(95)/19],\n",
       "[-3*sqrt(95)/19],\n",
       "[-5*sqrt(95)/19]])"
      ]
     },
     "metadata": {},
     "output_type": "display_data"
    },
    {
     "data": {
      "text/latex": [
       "$\\lambda=$"
      ],
      "text/plain": [
       "<IPython.core.display.Latex object>"
      ]
     },
     "metadata": {},
     "output_type": "display_data"
    },
    {
     "data": {
      "text/latex": [
       "$\\displaystyle \\left[\\begin{matrix}-10\\\\- \\frac{6 \\sqrt{95}}{19}\\end{matrix}\\right]$"
      ],
      "text/plain": [
       "Matrix([\n",
       "[           -10],\n",
       "[-6*sqrt(95)/19]])"
      ]
     },
     "metadata": {},
     "output_type": "display_data"
    },
    {
     "data": {
      "text/latex": [
       "$f(X)=$"
      ],
      "text/plain": [
       "<IPython.core.display.Latex object>"
      ]
     },
     "metadata": {},
     "output_type": "display_data"
    },
    {
     "data": {
      "text/latex": [
       "10.000"
      ],
      "text/plain": [
       "<IPython.core.display.Latex object>"
      ]
     },
     "metadata": {},
     "output_type": "display_data"
    },
    {
     "data": {
      "text/latex": [
       "$\\nabla^2 L=$"
      ],
      "text/plain": [
       "<IPython.core.display.Latex object>"
      ]
     },
     "metadata": {},
     "output_type": "display_data"
    },
    {
     "data": {
      "text/latex": [
       "$\\displaystyle \\left[\\begin{matrix}-3 & 0 & 0\\\\0 & -2 & 0\\\\0 & 0 & \\frac{6}{5}\\end{matrix}\\right]$"
      ],
      "text/plain": [
       "Matrix([\n",
       "[-3,  0,   0],\n",
       "[ 0, -2,   0],\n",
       "[ 0,  0, 6/5]])"
      ]
     },
     "metadata": {},
     "output_type": "display_data"
    },
    {
     "name": "stdout",
     "output_type": "stream",
     "text": [
      "\n",
      "Solution 11:\n"
     ]
    },
    {
     "data": {
      "text/latex": [
       "$X=$"
      ],
      "text/plain": [
       "<IPython.core.display.Latex object>"
      ]
     },
     "metadata": {},
     "output_type": "display_data"
    },
    {
     "data": {
      "text/latex": [
       "$\\displaystyle \\left[\\begin{matrix}\\frac{2 \\sqrt{95}}{19}\\\\\\frac{3 \\sqrt{95}}{19}\\\\\\frac{5 \\sqrt{95}}{19}\\end{matrix}\\right]$"
      ],
      "text/plain": [
       "Matrix([\n",
       "[2*sqrt(95)/19],\n",
       "[3*sqrt(95)/19],\n",
       "[5*sqrt(95)/19]])"
      ]
     },
     "metadata": {},
     "output_type": "display_data"
    },
    {
     "data": {
      "text/latex": [
       "$\\lambda=$"
      ],
      "text/plain": [
       "<IPython.core.display.Latex object>"
      ]
     },
     "metadata": {},
     "output_type": "display_data"
    },
    {
     "data": {
      "text/latex": [
       "$\\displaystyle \\left[\\begin{matrix}-10\\\\\\frac{6 \\sqrt{95}}{19}\\end{matrix}\\right]$"
      ],
      "text/plain": [
       "Matrix([\n",
       "[          -10],\n",
       "[6*sqrt(95)/19]])"
      ]
     },
     "metadata": {},
     "output_type": "display_data"
    },
    {
     "data": {
      "text/latex": [
       "$f(X)=$"
      ],
      "text/plain": [
       "<IPython.core.display.Latex object>"
      ]
     },
     "metadata": {},
     "output_type": "display_data"
    },
    {
     "data": {
      "text/latex": [
       "10.000"
      ],
      "text/plain": [
       "<IPython.core.display.Latex object>"
      ]
     },
     "metadata": {},
     "output_type": "display_data"
    },
    {
     "data": {
      "text/latex": [
       "$\\nabla^2 L=$"
      ],
      "text/plain": [
       "<IPython.core.display.Latex object>"
      ]
     },
     "metadata": {},
     "output_type": "display_data"
    },
    {
     "data": {
      "text/latex": [
       "$\\displaystyle \\left[\\begin{matrix}-3 & 0 & 0\\\\0 & -2 & 0\\\\0 & 0 & \\frac{6}{5}\\end{matrix}\\right]$"
      ],
      "text/plain": [
       "Matrix([\n",
       "[-3,  0,   0],\n",
       "[ 0, -2,   0],\n",
       "[ 0,  0, 6/5]])"
      ]
     },
     "metadata": {},
     "output_type": "display_data"
    }
   ],
   "source": [
    "x1 = sym.Symbol(\"x_1\")\n",
    "x2 = sym.Symbol(\"x_2\")\n",
    "x3 = sym.Symbol(\"x_3\")\n",
    "l1 = sym.Symbol(r\"\\lambda_1\")\n",
    "l2 = sym.Symbol(r\"\\lambda_2\")\n",
    "\n",
    "f = x1**2 + x2**2 + x3**2\n",
    "h1 = x1**2/4 + x2**2/5 + x3**2/25 - 1\n",
    "h2 = x1 + x2 - x3\n",
    "L = f + l1*h1 + l2*h2\n",
    "display(Latex(r\"$L=$\"),L)\n",
    "\n",
    "dL = sym.Matrix([[sym.diff(L,x1)],[sym.diff(L,x2)],[sym.diff(L,x3)]])\n",
    "display(Latex(r\"$\\nabla L=$\"),dL)\n",
    "\n",
    "dL2 = sym.Matrix([\n",
    "        [sym.diff(dL[0],x1),sym.diff(dL[0],x2),sym.diff(dL[0],x3)],\n",
    "        [sym.diff(dL[1],x1),sym.diff(dL[1],x2),sym.diff(dL[1],x3)],\n",
    "        [sym.diff(dL[2],x1),sym.diff(dL[2],x2),sym.diff(dL[2],x3)],\n",
    "    ])\n",
    "display(Latex(r\"$\\nabla^2 L=$\"),dL2)\n",
    "# print(latex(dL2))\n",
    "\n",
    "kkt = (sym.diff(L,x1), sym.diff(L,x2), sym.diff(L,x3), l1*h1, l2*h2)\n",
    "sol = sym.solve(kkt,(x1,x2,x3,l1,l2))\n",
    "for i,s in enumerate(sol):\n",
    "    print(f\"\\nSolution {i+1}:\")\n",
    "    # display(Latex(\"$\"+latex(s)+\"$\"))\n",
    "    display(Latex(r\"$X=$\"),sym.Matrix(s[:3]))\n",
    "    display(Latex(r\"$\\lambda=$\"),sym.Matrix(s[3:]))\n",
    "    x_sol = [i.evalf() for i in s]\n",
    "    f_sol = f.subs({x1:x_sol[0], x2:x_sol[1], x3:x_sol[2]})\n",
    "    display(Latex(\"$f(X)=$\"),Latex(f\"{f_sol:.3f}\"))\n",
    "    display(Latex(r\"$\\nabla^2 L=$\"),dL2.subs({l1:s[3],l2:s[4]}))\n",
    "    \n",
    "    if any([m < 0 for m in []]):\n",
    "        print(\"INVALID MULTIPLIERS\")\n",
    "    elif any([l == 0 for l in [s[3]]]):\n",
    "        print(\"INVALID MULTIPLIERS\")"
   ]
  },
  {
   "attachments": {},
   "cell_type": "markdown",
   "metadata": {},
   "source": [
    "> Solutions 1, 3, and 7 have positive definine $\\nabla^2 L$, and therefore are minimums.\n",
    "\n",
    "## Lab 05 Part II\n",
    "\n",
    "### Activity 1\n",
    "\n",
    "Consider the following optimisation problem: minimise\n",
    "$$f(x)= -2x_1x_2+2x_1-x_1^2-2x_2^2$$\n",
    "subject to:\n",
    "$$x_1^3-x_2=0$$\n",
    "$$-x_2+(x_1-1)^4+2<=0$$\n",
    "within bounds\n",
    "$$0.5<=x_1<=1.5$$\n",
    "$$1.5<=x_2<=2.5$$"
   ]
  },
  {
   "cell_type": "code",
   "execution_count": 13,
   "metadata": {},
   "outputs": [
    {
     "data": {
      "text/plain": [
       "[0, 3, 0, 3]"
      ]
     },
     "execution_count": 13,
     "metadata": {},
     "output_type": "execute_result"
    },
    {
     "data": {
      "image/png": "[encoded data removed]",
      "text/plain": [
       "<Figure size 640x480 with 1 Axes>"
      ]
     },
     "metadata": {},
     "output_type": "display_data"
    }
   ],
   "source": [
    "# Define objective function\n",
    "def f(x):\n",
    "    return -(2*x[0]*x[1] + 2*x[0] - x[0]**2 - 2*x[1]**2)\n",
    "\n",
    "# Contours of the objective function and the constraints\n",
    "x = np.linspace(0, 3, 100)\n",
    "y = np.linspace(0, 3, 100)\n",
    "X, Y = np.meshgrid(x, y)\n",
    "Z = f(np.vstack([X.ravel(), Y.ravel()])).reshape((100,100))\n",
    "plt.contour(X, Y, Z, np.arange(-1.99,10, 1));\n",
    "plt.plot(x, x**3, 'k:', linewidth=1)\n",
    "plt.plot(x, (x-1)**4+2, 'k:', linewidth=1)\n",
    "plt.fill([0.5,0.5,1.5,1.5], [2.5,1.5,1.5,2.5], alpha=0.3)\n",
    "plt.axis([0,3,0,3])\n",
    "[0, 3, 0, 3]"
   ]
  },
  {
   "cell_type": "code",
   "execution_count": 14,
   "metadata": {},
   "outputs": [
    {
     "data": {
      "text/plain": [
       "      fun: -1.9999999999999571\n",
       " hess_inv: array([[0.98942657, 0.49330774],\n",
       "       [0.49330774, 0.49576443]])\n",
       "      jac: array([-1.78813934e-07, -1.49011612e-07])\n",
       "  message: 'Optimization terminated successfully.'\n",
       "     nfev: 21\n",
       "      nit: 6\n",
       "     njev: 7\n",
       "   status: 0\n",
       "  success: True\n",
       "        x: array([1.99999972, 0.99999982])"
      ]
     },
     "execution_count": 14,
     "metadata": {},
     "output_type": "execute_result"
    }
   ],
   "source": [
    "cons = ({'type': 'eq',\n",
    "         'fun' : lambda x: np.array([x[0]**3 - x[1]]),\n",
    "         'jac' : lambda x: np.array([3.0*(x[0]**2.0), -1.0])},\n",
    "        {'type': 'ineq',\n",
    "         'fun' : lambda x: np.array([x[1] - (x[0]-1)**4 - 2])})\n",
    "\n",
    "bnds = ((0.5, 1.5), (1.5, 2.5))\n",
    "\n",
    "x0 = [3, 4]\n",
    "# Unconstrained\n",
    "ux = opt.minimize(f, x0, constraints=None)\n",
    "ux"
   ]
  },
  {
   "cell_type": "code",
   "execution_count": 15,
   "metadata": {},
   "outputs": [
    {
     "data": {
      "text/plain": [
       "     fun: 2.0499154720914454\n",
       "     jac: array([-3.48747873,  5.49674416])\n",
       " message: 'Optimization terminated successfully'\n",
       "    nfev: 13\n",
       "     nit: 4\n",
       "    njev: 4\n",
       "  status: 0\n",
       " success: True\n",
       "       x: array([1.26089314, 2.00463288])"
      ]
     },
     "execution_count": 15,
     "metadata": {},
     "output_type": "execute_result"
    }
   ],
   "source": [
    "# Constrained\n",
    "cx = opt.minimize(f, x0, bounds=bnds, constraints=cons)\n",
    "cx"
   ]
  },
  {
   "cell_type": "code",
   "execution_count": 16,
   "metadata": {},
   "outputs": [
    {
     "data": {
      "image/png": "[encoded data removed]",
      "text/plain": [
       "<Figure size 640x480 with 1 Axes>"
      ]
     },
     "metadata": {},
     "output_type": "display_data"
    }
   ],
   "source": [
    "x = np.linspace(0, 3, 100)\n",
    "y = np.linspace(0, 3, 100)\n",
    "X, Y = np.meshgrid(x, y)\n",
    "Z = f(np.vstack([X.ravel(), Y.ravel()])).reshape((100,100))\n",
    "plt.contour(X, Y, Z, np.arange(-1.99,10, 1));\n",
    "plt.plot(x, x**3, 'k:', linewidth=1)\n",
    "plt.plot(x, (x-1)**4+2, 'k:', linewidth=1)\n",
    "plt.text(ux['x'][0], ux['x'][1], 'x', va='center', ha='center', size=20, color='blue')\n",
    "plt.text(cx['x'][0], cx['x'][1], 'x', va='center', ha='center', size=20, color='red')\n",
    "plt.fill([0.5,0.5,1.5,1.5], [2.5,1.5,1.5,2.5], alpha=0.3)\n",
    "plt.axis([0,3,0,3]);"
   ]
  },
  {
   "attachments": {},
   "cell_type": "markdown",
   "metadata": {},
   "source": [
    "> The unconstrained optimal point is $(1.99999972, 0.99999982)$. When taking constraints into account, this has shifted to $(1.26089314, 2.00463288)$. Therefore, the constraints are active.\n",
    "\n",
    "b) Is it possible to find the Lagrange multipliers for this problem?"
   ]
  },
  {
   "cell_type": "code",
   "execution_count": 26,
   "metadata": {},
   "outputs": [
    {
     "data": {
      "text/latex": [
       "$\\nabla \\mathbf{g}=$"
      ],
      "text/plain": [
       "<IPython.core.display.Latex object>"
      ]
     },
     "metadata": {},
     "output_type": "display_data"
    },
    {
     "data": {
      "text/latex": [
       "$\\displaystyle \\left[\\begin{matrix}4 \\left(x_{1} - 1\\right)^{3}\\\\-1\\end{matrix}\\right]$"
      ],
      "text/plain": [
       "Matrix([\n",
       "[4*(x_1 - 1)**3],\n",
       "[            -1]])"
      ]
     },
     "metadata": {},
     "output_type": "display_data"
    },
    {
     "data": {
      "text/latex": [
       "$\\nabla \\mathbf{g}(1.261,2.005)=$"
      ],
      "text/plain": [
       "<IPython.core.display.Latex object>"
      ]
     },
     "metadata": {},
     "output_type": "display_data"
    },
    {
     "data": {
      "text/latex": [
       "$\\displaystyle \\left[\\begin{matrix}0.0711183239999999\\\\-1\\end{matrix}\\right]$"
      ],
      "text/plain": [
       "Matrix([\n",
       "[0.0711183239999999],\n",
       "[                -1]])"
      ]
     },
     "metadata": {},
     "output_type": "display_data"
    },
    {
     "data": {
      "text/latex": [
       "$\\nabla \\mathbf{h}=$"
      ],
      "text/plain": [
       "<IPython.core.display.Latex object>"
      ]
     },
     "metadata": {},
     "output_type": "display_data"
    },
    {
     "data": {
      "text/latex": [
       "$\\displaystyle \\left[\\begin{matrix}3 x_{1}^{2}\\\\-1\\end{matrix}\\right]$"
      ],
      "text/plain": [
       "Matrix([\n",
       "[3*x_1**2],\n",
       "[      -1]])"
      ]
     },
     "metadata": {},
     "output_type": "display_data"
    },
    {
     "data": {
      "text/latex": [
       "$\\nabla \\mathbf{h}(1.261,2.005)=$"
      ],
      "text/plain": [
       "<IPython.core.display.Latex object>"
      ]
     },
     "metadata": {},
     "output_type": "display_data"
    },
    {
     "data": {
      "text/latex": [
       "$\\displaystyle \\left[\\begin{matrix}4.770363\\\\-1\\end{matrix}\\right]$"
      ],
      "text/plain": [
       "Matrix([\n",
       "[4.770363],\n",
       "[      -1]])"
      ]
     },
     "metadata": {},
     "output_type": "display_data"
    }
   ],
   "source": [
    "x1 = sym.Symbol(\"x_1\")\n",
    "x2 = sym.Symbol(\"x_2\")\n",
    "g = -x2 + (x1-1)**4 + 2\n",
    "h = x1**3 - x2\n",
    "\n",
    "# The gradients of the constraints\n",
    "dg = sym.Matrix([[sym.diff(g,x1)],[sym.diff(g,x2)]])\n",
    "display(Latex(r\"$\\nabla \\mathbf{g}=$\"),dg)\n",
    "display(Latex(r\"$\\nabla \\mathbf{g}(1.261,2.005)=$\"),dg.subs({x1:1.261,x2:2.005}))\n",
    "dh = sym.Matrix([[sym.diff(h,x1)],[sym.diff(h,x2)]])\n",
    "display(Latex(r\"$\\nabla \\mathbf{h}=$\"),dh)\n",
    "display(Latex(r\"$\\nabla \\mathbf{h}(1.261,2.005)=$\"),dh.subs({x1:1.261,x2:2.005}))"
   ]
  },
  {
   "attachments": {},
   "cell_type": "markdown",
   "metadata": {},
   "source": [
    "> The gradients of the constraints are linearly independent of each other at the optimal point. Therefore, it is a regular point, and Langrangian multipliers can be found for the problem.\n",
    "\n",
    "### Activity 2\n",
    "\n",
    "Minimise\n",
    "$$f(x)=(x_1-1)^2+x_2-2$$\n",
    "subject to:\n",
    "$$h(x)=x_2-x_1-1=0$$\n",
    "$$g(x)=x_1+x_2-2<=0$$\n",
    "Identify the active contraints"
   ]
  },
  {
   "cell_type": "code",
   "execution_count": 34,
   "metadata": {},
   "outputs": [
    {
     "data": {
      "text/latex": [
       "$L=$"
      ],
      "text/plain": [
       "<IPython.core.display.Latex object>"
      ]
     },
     "metadata": {},
     "output_type": "display_data"
    },
    {
     "data": {
      "text/latex": [
       "$\\displaystyle \\lambda \\left(- x_{1} + x_{2} - 1\\right) + \\mu \\left(x_{1} + x_{2} - 2\\right) + x_{2} + \\left(x_{1} - 1\\right)^{2} - 2$"
      ],
      "text/plain": [
       "\\lambda*(-x_1 + x_2 - 1) + \\mu*(x_1 + x_2 - 2) + x_2 + (x_1 - 1)**2 - 2"
      ]
     },
     "metadata": {},
     "output_type": "display_data"
    },
    {
     "data": {
      "text/latex": [
       "$\\nabla L=$"
      ],
      "text/plain": [
       "<IPython.core.display.Latex object>"
      ]
     },
     "metadata": {},
     "output_type": "display_data"
    },
    {
     "data": {
      "text/latex": [
       "$\\displaystyle \\left[\\begin{matrix}- \\lambda + \\mu + 2 x_{1} - 2\\\\\\lambda + \\mu + 1\\\\0\\end{matrix}\\right]$"
      ],
      "text/plain": [
       "Matrix([\n",
       "[-\\lambda + \\mu + 2*x_1 - 2],\n",
       "[         \\lambda + \\mu + 1],\n",
       "[                         0]])"
      ]
     },
     "metadata": {},
     "output_type": "display_data"
    },
    {
     "data": {
      "text/latex": [
       "$\\nabla^2 L=$"
      ],
      "text/plain": [
       "<IPython.core.display.Latex object>"
      ]
     },
     "metadata": {},
     "output_type": "display_data"
    },
    {
     "data": {
      "text/latex": [
       "$\\displaystyle \\left[\\begin{matrix}2 & 0 & 0\\\\0 & 0 & 0\\\\0 & 0 & 0\\end{matrix}\\right]$"
      ],
      "text/plain": [
       "Matrix([\n",
       "[2, 0, 0],\n",
       "[0, 0, 0],\n",
       "[0, 0, 0]])"
      ]
     },
     "metadata": {},
     "output_type": "display_data"
    },
    {
     "data": {
      "text/latex": [
       "$X=$"
      ],
      "text/plain": [
       "<IPython.core.display.Latex object>"
      ]
     },
     "metadata": {},
     "output_type": "display_data"
    },
    {
     "data": {
      "text/latex": [
       "$\\displaystyle \\left[\\begin{matrix}\\frac{1}{2}\\\\\\frac{3}{2}\\\\x_{3}\\end{matrix}\\right]$"
      ],
      "text/plain": [
       "Matrix([\n",
       "[1/2],\n",
       "[3/2],\n",
       "[x_3]])"
      ]
     },
     "metadata": {},
     "output_type": "display_data"
    },
    {
     "data": {
      "text/latex": [
       "$\\mu=$"
      ],
      "text/plain": [
       "<IPython.core.display.Latex object>"
      ]
     },
     "metadata": {},
     "output_type": "display_data"
    },
    {
     "data": {
      "text/latex": [
       "$\\displaystyle 0$"
      ],
      "text/plain": [
       "0"
      ]
     },
     "metadata": {},
     "output_type": "display_data"
    },
    {
     "data": {
      "text/latex": [
       "$\\lambda=$"
      ],
      "text/plain": [
       "<IPython.core.display.Latex object>"
      ]
     },
     "metadata": {},
     "output_type": "display_data"
    },
    {
     "data": {
      "text/latex": [
       "$\\displaystyle -1$"
      ],
      "text/plain": [
       "-1"
      ]
     },
     "metadata": {},
     "output_type": "display_data"
    },
    {
     "data": {
      "text/latex": [
       "$\\nabla^2 L=$"
      ],
      "text/plain": [
       "<IPython.core.display.Latex object>"
      ]
     },
     "metadata": {},
     "output_type": "display_data"
    },
    {
     "data": {
      "text/latex": [
       "$\\displaystyle \\left[\\begin{matrix}2 & 0 & 0\\\\0 & 0 & 0\\\\0 & 0 & 0\\end{matrix}\\right]$"
      ],
      "text/plain": [
       "Matrix([\n",
       "[2, 0, 0],\n",
       "[0, 0, 0],\n",
       "[0, 0, 0]])"
      ]
     },
     "metadata": {},
     "output_type": "display_data"
    },
    {
     "data": {
      "text/latex": [
       "$g(X)=$"
      ],
      "text/plain": [
       "<IPython.core.display.Latex object>"
      ]
     },
     "metadata": {},
     "output_type": "display_data"
    },
    {
     "data": {
      "text/latex": [
       "$\\displaystyle 0$"
      ],
      "text/plain": [
       "0"
      ]
     },
     "metadata": {},
     "output_type": "display_data"
    }
   ],
   "source": [
    "x1 = sym.Symbol(\"x_1\")\n",
    "x2 = sym.Symbol(\"x_2\")\n",
    "x3 = sym.Symbol(\"x_3\")\n",
    "m = sym.Symbol(r\"\\mu\")\n",
    "l = sym.Symbol(r\"\\lambda\")\n",
    "f = (x1-1)**2 + x2 -2\n",
    "g = x1 + x2 - 2\n",
    "h = x2 - x1 -1\n",
    "L = f + m*g + l*h\n",
    "display(Latex(r\"$L=$\"),L)\n",
    "\n",
    "dL = sym.Matrix([[sym.diff(L,x1)],[sym.diff(L,x2)],[sym.diff(L,x3)]])\n",
    "display(Latex(r\"$\\nabla L=$\"),dL)\n",
    "\n",
    "dL2 = sym.Matrix([\n",
    "        [sym.diff(dL[0],x1),sym.diff(dL[0],x2),sym.diff(dL[0],x3)],\n",
    "        [sym.diff(dL[1],x1),sym.diff(dL[1],x2),sym.diff(dL[1],x3)],\n",
    "        [sym.diff(dL[2],x1),sym.diff(dL[2],x2),sym.diff(dL[2],x3)],\n",
    "    ])\n",
    "display(Latex(r\"$\\nabla^2 L=$\"),dL2)\n",
    "\n",
    "kkt = (sym.diff(L,x1), sym.diff(L,x2), sym.diff(L,x3), m*g, l*h)\n",
    "sol = sym.solve(kkt,(x1,x2,x3,m,l))\n",
    "display(Latex(r\"$X=$\"),sym.Matrix(sol[0][:3]))\n",
    "display(Latex(r\"$\\mu=$\"),sol[0][3])\n",
    "display(Latex(r\"$\\lambda=$\"),sol[0][4])\n",
    "display(Latex(r\"$\\nabla^2 L=$\"),dL2.subs({m:sol[0][3],l:sol[0][4]}))\n",
    "display(Latex(r\"$g(X)=$\"),g.subs({x1:sol[0][0],x2:sol[0][1],x3:sol[0][2]}))"
   ]
  },
  {
   "attachments": {},
   "cell_type": "markdown",
   "metadata": {},
   "source": [
    "> $\\nabla^2 L$ is positive definite. Therefore X is a minimum. The active constraints are $g(x)$ and $h(x)$."
   ]
  }
 ],
 "metadata": {
  "kernelspec": {
   "display_name": "Python 3",
   "language": "python",
   "name": "python3"
  },
  "language_info": {
   "codemirror_mode": {
    "name": "ipython",
    "version": 3
   },
   "file_extension": ".py",
   "mimetype": "text/x-python",
   "name": "python",
   "nbconvert_exporter": "python",
   "pygments_lexer": "ipython3",
   "version": "3.9.13"
  },
  "orig_nbformat": 4
 },
 "nbformat": 4,
 "nbformat_minor": 2
}
